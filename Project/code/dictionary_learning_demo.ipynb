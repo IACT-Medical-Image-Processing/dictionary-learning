{
 "cells": [
  {
   "cell_type": "markdown",
   "metadata": {},
   "source": [
    "# Dictionary learning"
   ]
  },
  {
   "cell_type": "code",
   "execution_count": null,
   "metadata": {
    "collapsed": false
   },
   "outputs": [],
   "source": [
    "%matplotlib inline\n",
    "%load_ext autoreload\n",
    "%autoreload 2\n",
    "\n",
    "import time\n",
    "\n",
    "import numpy as np\n",
    "from tqdm import tqdm\n",
    "from sklearn import linear_model, datasets\n",
    "import matplotlib.pyplot as plt\n",
    "import seaborn as sns\n",
    "sns.set_style(\"darkgrid\")\n",
    "\n",
    "from nt_toolbox.signal import load_image, imageplot\n",
    "from utils import (random_dictionary, high_energy_random_dictionary,\n",
    "                  center, scale, reconstruction_error, plot_error, plot_dictionary)\n",
    "from dictionary_learning import (sparse_code_omp, dictionary_update_ksvd, sparse_code_lasso,\n",
    "                                 dictionary_update_omf, sparse_code_fb, dictionary_update_fb)\n",
    "\n",
    "import warnings\n",
    "warnings.filterwarnings('ignore')"
   ]
  },
  {
   "cell_type": "markdown",
   "metadata": {},
   "source": [
    "## Image and variables"
   ]
  },
  {
   "cell_type": "code",
   "execution_count": null,
   "metadata": {
    "collapsed": false
   },
   "outputs": [],
   "source": [
    "width = 5\n",
    "signal_size = width*width\n",
    "n_atoms = 2*signal_size\n",
    "n_samples = 20*n_atoms\n",
    "k = 4  # Desired sparsity\n",
    "max_time = 120"
   ]
  },
  {
   "cell_type": "code",
   "execution_count": null,
   "metadata": {
    "collapsed": false
   },
   "outputs": [],
   "source": [
    "synthetic_data = True\n",
    "if synthetic_data:\n",
    "    Y, D_true, X_true = datasets.make_sparse_coded_signal(n_samples, n_atoms, signal_size, k, random_state=0)\n",
    "else:\n",
    "    img_size = 256\n",
    "    filename = 'images/lena.bmp'\n",
    "    f0 = load_image(filename, img_size)\n",
    "\n",
    "    plt.figure(figsize = (6,6))\n",
    "    imageplot(f0, 'Image f_0')\n",
    "\n",
    "    D0 = high_energy_random_dictionary(f0, width, n_atoms)\n",
    "    Y = random_dictionary(f0, width, n_samples)\n",
    "    Y = center(Y)\n",
    "\n",
    "np.random.seed(0)\n",
    "D0 = np.random.random(D_true.shape)\n",
    "X0 = np.zeros((n_atoms, n_samples))"
   ]
  },
  {
   "cell_type": "markdown",
   "metadata": {},
   "source": [
    "# K-SVD\n",
    "\n",
    "Aharon, Michal, Michael Elad, and Alfred Bruckstein. \"K-SVD: An Algorithm for Designing Overcomplete Dictionaries for Sparse Representation.\" IEEE Transactions on signal processing 54.11 (2006): 4311-4322."
   ]
  },
  {
   "cell_type": "code",
   "execution_count": null,
   "metadata": {
    "collapsed": false,
    "scrolled": true
   },
   "outputs": [],
   "source": [
    "# Variables\n",
    "n_iter = 12\n",
    "D = D0.copy()\n",
    "X = X0.copy()\n",
    "E = np.zeros(2*n_iter)\n",
    "times = np.zeros(2*n_iter)\n",
    "\n",
    "# Model for sparse coding\n",
    "omp = linear_model.OrthogonalMatchingPursuit(n_nonzero_coefs=k, fit_intercept=False)\n",
    "tic = time.time()\n",
    "for i in tqdm(range(n_iter)):\n",
    "    # Sparse coding\n",
    "    X = sparse_code_omp(Y, D, omp)\n",
    "    E[2*i] = reconstruction_error(Y, D, X)\n",
    "    times[2*i] = time.time() - tic\n",
    "\n",
    "    # Dictionary update\n",
    "    D, X = dictionary_update_ksvd(Y, D, X)\n",
    "    E[2*i+1] = reconstruction_error(Y, D, X)\n",
    "    times[2*i+1] = time.time() - tic\n",
    "    if (time.time() - tic) > max_time:\n",
    "        break\n",
    "\n",
    "# Save variables\n",
    "E_ksvd = E.copy()\n",
    "times_ksvd = times.copy()\n",
    "D_ksvd = D.copy()"
   ]
  },
  {
   "cell_type": "code",
   "execution_count": null,
   "metadata": {
    "collapsed": false
   },
   "outputs": [],
   "source": [
    "plot_error(E, burn_in=2, filename='images/ksvd_{}_iter_{}.png'.format(n_iter, 'synthetic' if synthetic_data else 'image'))\n",
    "#plot_dictionary(D)"
   ]
  },
  {
   "cell_type": "markdown",
   "metadata": {},
   "source": [
    "# Online dictionary learning\n",
    "Mairal, Julien, et al. \"Online learning for matrix factorization and sparse coding.\" Journal of Machine Learning Research 11.Jan (2010): 19-60."
   ]
  },
  {
   "cell_type": "code",
   "execution_count": null,
   "metadata": {
    "collapsed": false
   },
   "outputs": [],
   "source": [
    "# Variables\n",
    "n_iter = 10*n_samples\n",
    "eval_interval = n_samples//2\n",
    "D = D0.copy()\n",
    "X = X0.copy()\n",
    "A = np.zeros((n_atoms,n_atoms))\n",
    "B = np.zeros((signal_size,n_atoms))\n",
    "sparsity = []\n",
    "E = []\n",
    "times = []\n",
    "\n",
    "# Model for sparse coding (alpha is the l1 penalty coefficient)\n",
    "lasso = linear_model.Lasso(alpha=0.02, fit_intercept=False)\n",
    "tic = time.time()\n",
    "for i in tqdm(range(n_iter)):\n",
    "    # Draw 1 sample at random\n",
    "    rand_idx = np.random.randint(n_samples)\n",
    "    y = Y[:, rand_idx].reshape((signal_size, 1))\n",
    "\n",
    "    # Sparse coding\n",
    "    x = sparse_code_lasso(y, D, lasso).reshape((50,1))\n",
    "    \n",
    "    # Dictionary update\n",
    "    A += np.dot(x, x.T)\n",
    "    B += np.dot(y, x.T)\n",
    "    D = dictionary_update_omf(D, A, B)\n",
    "    D = scale(D)\n",
    "    \n",
    "    if i%eval_interval == 0:\n",
    "        # Evaluation:\n",
    "        X = sparse_code_fb(Y, D, X, sparsity=4, n_iter=100)\n",
    "        E.append(reconstruction_error(Y, D, X))\n",
    "        times.append(time.time() - tic)\n",
    "        if (time.time() - tic) > max_time:\n",
    "            break\n",
    "    sparsity.append(np.mean(np.sum(x!=0, axis=0)))\n",
    "\n",
    "# Save errors and dictionary\n",
    "E_omf = E.copy()\n",
    "times_omf = times.copy()\n",
    "D_omf = D.copy()"
   ]
  },
  {
   "cell_type": "code",
   "execution_count": null,
   "metadata": {
    "collapsed": false
   },
   "outputs": [],
   "source": [
    "print('Mean sparsity: {}'.format(np.mean(sparsity)))\n",
    "plt.plot(times, np.log10(E))\n",
    "plt.xlabel('Time')\n",
    "plt.ylabel('Error: $\\log(||Y-DX||^2)$')\n",
    "plt.title('Reconstruction error on the test set')\n",
    "filename = 'images/omf_{}_iter_{}.png'.format(n_iter, 'synthetic' if synthetic_data else 'image')\n",
    "plt.savefig(filename)\n",
    "plt.show()\n",
    "\n",
    "#plot_dictionary(D)"
   ]
  },
  {
   "cell_type": "markdown",
   "metadata": {},
   "source": [
    "# Forward Backward\n",
    "\n",
    "Combettes, Patrick L., and Jean-Christophe Pesquet. \"Proximal splitting methods in signal processing.\" Fixed-point algorithms for inverse problems in science and engineering. Springer New York, 2011. 185-212.  \n",
    "\n",
    "Adapted from\n",
    "http://nbviewer.jupyter.org/github/gpeyre/numerical-tours/blob/master/matlab/sparsity_4_dictionary_learning.ipynb"
   ]
  },
  {
   "cell_type": "code",
   "execution_count": null,
   "metadata": {
    "collapsed": false,
    "scrolled": true
   },
   "outputs": [],
   "source": [
    "# Variables\n",
    "n_iter = 12\n",
    "E = np.zeros(2*n_iter)\n",
    "times = np.zeros(2*n_iter)\n",
    "D = D0.copy()\n",
    "X = X0.copy()\n",
    "tic = time.time()\n",
    "for i in tqdm(range(n_iter)):\n",
    "    # Sparse coding\n",
    "    X = sparse_code_fb(Y, D, X, sparsity=k, n_iter=100)\n",
    "    E[2*i] = reconstruction_error(Y, D, X)\n",
    "    times[2*i] = time.time() - tic\n",
    "\n",
    "    # Dictionary update\n",
    "    D = dictionary_update_fb(Y, D, X, n_iter=50)\n",
    "    E[2*i+1] = reconstruction_error(Y, D, X)\n",
    "    times[2*i+1] = time.time() - tic\n",
    "    if (time.time() - tic) > max_time:\n",
    "        break\n",
    "# Save errors and dictionary\n",
    "E_fb = E.copy()\n",
    "times_fb = times.copy()\n",
    "D_fb = D.copy()"
   ]
  },
  {
   "cell_type": "code",
   "execution_count": null,
   "metadata": {
    "collapsed": false
   },
   "outputs": [],
   "source": [
    "plot_error(E, burn_in=2, filename='images/fb_{}_iter_{}.png'.format(n_iter, 'synthetic' if synthetic_data else 'image'))\n",
    "#plot_dictionary(D)"
   ]
  },
  {
   "cell_type": "markdown",
   "metadata": {},
   "source": [
    "## Comparison"
   ]
  },
  {
   "cell_type": "code",
   "execution_count": null,
   "metadata": {
    "collapsed": false
   },
   "outputs": [],
   "source": [
    "burn_in = 0\n",
    "plt.plot(times_ksvd[burn_in:], np.log10(E_ksvd[burn_in:]), label='K-SVD')\n",
    "plt.plot(times_omf[burn_in:], np.log10(E_omf[burn_in:]), label='Online matrix factorization')\n",
    "plt.plot(times_fb[burn_in:], np.log10(E_fb[burn_in:]), label='Forward-Backward')\n",
    "plt.xlabel('Time (s)')\n",
    "plt.ylabel('Error: $\\log(||Y-DX||^2)$')\n",
    "plt.legend()\n",
    "plt.title('Reconstruction error on the test set')\n",
    "filename = 'images/comparison_{}s_{}.png'.format(max_time, 'synthetic' if synthetic_data else 'image')\n",
    "plt.savefig(filename)\n",
    "plt.show()"
   ]
  },
  {
   "cell_type": "markdown",
   "metadata": {},
   "source": [
    "### Performance considerations"
   ]
  },
  {
   "cell_type": "markdown",
   "metadata": {},
   "source": [
    "Sparse coding methods"
   ]
  },
  {
   "cell_type": "code",
   "execution_count": null,
   "metadata": {
    "collapsed": false
   },
   "outputs": [],
   "source": [
    "print('Orthogonal matching pursuit')\n",
    "omp = linear_model.OrthogonalMatchingPursuit(n_nonzero_coefs=k, fit_intercept=False)\n",
    "%timeit sparse_code_omp(Y, D_true, omp)\n",
    "X_omp = sparse_code_omp(Y, D_true, omp)\n",
    "print('Reconstruction error: {}'.format(reconstruction_error(Y, D_true, X_omp)))\n",
    "\n",
    "print('\\nLasso')\n",
    "lasso = linear_model.Lasso(0.01, fit_intercept=False)\n",
    "%timeit sparse_code_lasso(Y, D_true, lasso)\n",
    "X_lasso = sparse_code_lasso(Y, D_true, lasso)\n",
    "print('Mean sparsity: {}'.format(np.mean(np.sum(X_lasso != 0, axis=0))))\n",
    "print('Reconstruction error: {}'.format(reconstruction_error(Y, D_true, X_lasso)))\n",
    "\n",
    "print('\\nForward backward')\n",
    "%timeit sparse_code_fb(Y, D_true, X0, sparsity=k, n_iter=100)\n",
    "X_fb = sparse_code_fb(Y, D_true, X0, sparsity=k, n_iter=100)\n",
    "print('Reconstruction error: {}'.format(reconstruction_error(Y, D_true, X_fb)))"
   ]
  },
  {
   "cell_type": "markdown",
   "metadata": {},
   "source": [
    "Dictionary learning methods\n",
    "\n",
    "Results are not comparable, this only gives a rough idea of the time algorithm take"
   ]
  },
  {
   "cell_type": "code",
   "execution_count": null,
   "metadata": {
    "collapsed": false
   },
   "outputs": [],
   "source": [
    "print('K-SVD')\n",
    "%timeit dictionary_update_ksvd(Y, D0, X_true)\n",
    "\n",
    "print('\\nOnline matrix factorization')\n",
    "A = np.zeros((n_atoms,n_atoms))\n",
    "B = np.zeros((signal_size,n_atoms))\n",
    "y = Y[:, 0].reshape((signal_size, 1))\n",
    "%timeit dictionary_update_omf(D0, A, B)\n",
    "\n",
    "print('\\nForward backward')\n",
    "%timeit dictionary_update_fb(Y, D0, X_true, n_iter=50)"
   ]
  }
 ],
 "metadata": {
  "anaconda-cloud": {},
  "kernelspec": {
   "display_name": "Python 3",
   "language": "python",
   "name": "python3"
  },
  "language_info": {
   "codemirror_mode": {
    "name": "ipython",
    "version": 3
   },
   "file_extension": ".py",
   "mimetype": "text/x-python",
   "name": "python",
   "nbconvert_exporter": "python",
   "pygments_lexer": "ipython3",
   "version": "3.5.2"
  }
 },
 "nbformat": 4,
 "nbformat_minor": 0
}
